{
 "cells": [
  {
   "cell_type": "markdown",
   "metadata": {
    "_uuid": "805a97911f01abb36ff8414d8d6aec9293e4fb85"
   },
   "source": [
    "<h1><center><font size=\"6\">Cursive Hiragana Images Classification</font></center></h1>\n",
    "\n",
    "\n",
    "<img src=\"http://su-cultural-history.up.n.seesaa.net/su-cultural-history/image/P1030717.JPG?d=a48\" width=\"200\"></img>\n",
    "\n",
    "\n",
    "# <a id='0'>Content</a>\n",
    "\n",
    "- <a href='#1'>Introduction</a>  \n",
    "- <a href='#2'>Load packages</a>  \n",
    "- <a href='#3'>Read the data</a>  \n",
    "- <a href='#4'>Data exploration</a>\n",
    "    - <a href='#41'>Class distribution</a>\n",
    "    - <a href='#42'>Images samples</a>\n",
    "- <a href='#5'>Model</a>  \n",
    "    - <a href='#51'>Prepare the model</a>  \n",
    "    - <a href='#52'>Train the model</a>  \n",
    "    - <a href='#53'>Validation accuracy and loss</a>  \n",
    "    - <a href='#54'>Validation accuracy per class</a>  \n",
    "- <a href='#6'>Test prediction</a>     \n",
    "- <a href='#7'>Conclusions</a>\n",
    "- <a href='#8'>References</a>"
   ]
  },
  {
   "cell_type": "markdown",
   "metadata": {
    "_uuid": "1b1c16628c2f62a18e1dc2068e1d67d7003922b1"
   },
   "source": [
    "# <a id=\"1\">Introduction</a>  \n",
    "\n",
    "\n",
    "## Dataset\n",
    "\n",
    "MNIST (\"Modified National Institute of Standards and Technology\") is the de facto “hello world” dataset of computer vision. Since its release in 1999, this classic dataset of handwritten images has served as the basis for benchmarking classification algorithms.   \n",
    "\n",
    "KMNIST (Kuzushiji-MNIST or Cursive hiragana-MNIST)  was introduced as an alternative to MNIST. It contains images with the first entries from the 10 main Japanese hiragana character groups.\n",
    "\n",
    "\n",
    "## Content\n",
    "\n",
    "Each image is 28 pixels in height and 28 pixels in width, for a total of 784 pixels in total.   \n",
    "\n",
    "The images are storred in numpy arrays of 50,000 x 28 x 28 and 20,000 x 28 x 28, respectively. The labels for training set are also stored in a numpy array.\n"
   ]
  },
  {
   "cell_type": "markdown",
   "metadata": {
    "_uuid": "5a708dc52b2e5990e2247ed573d50d0f6933b730"
   },
   "source": [
    "# <a id=\"2\">Load packages</a>"
   ]
  },
  {
   "cell_type": "code",
   "execution_count": 1,
   "metadata": {
    "_uuid": "1a6b3f3a07b7c92e37d8faeef51046bde93cb71a"
   },
   "outputs": [
    {
     "name": "stderr",
     "output_type": "stream",
     "text": [
      "Using TensorFlow backend.\n"
     ]
    }
   ],
   "source": [
    "import os\n",
    "import numpy as np\n",
    "import pandas as pd\n",
    "from sklearn.model_selection import train_test_split\n",
    "from sklearn.metrics import classification_report\n",
    "from tensorflow.python import keras\n",
    "from tensorflow.python.keras.models import Sequential\n",
    "from tensorflow.python.keras.layers import Dense, Flatten, Conv2D, Dropout, MaxPooling2D, BatchNormalization\n",
    "from IPython.display import SVG\n",
    "from keras.utils.vis_utils import model_to_dot\n",
    "from keras.utils import plot_model\n",
    "import seaborn as sns\n",
    "import matplotlib.pyplot as plt\n",
    "from tqdm import tqdm_notebook\n",
    "%matplotlib inline "
   ]
  },
  {
   "cell_type": "markdown",
   "metadata": {
    "_uuid": "e5a892782dfc715f31f2f17bba5ab80b6ca158e3"
   },
   "source": [
    "## Parameters"
   ]
  },
  {
   "cell_type": "code",
   "execution_count": 2,
   "metadata": {
    "_uuid": "d7a44bfc7a28df7026241c4a7e047298446f1554"
   },
   "outputs": [
    {
     "name": "stdout",
     "output_type": "stream",
     "text": [
      "['classmap.csv', 'train-imgs.npz', 'train-labels.npz', 'test-imgs.npz', 'sample_submission.csv']\n"
     ]
    }
   ],
   "source": [
    "IMG_ROWS = 28\n",
    "IMG_COLS = 28\n",
    "NUM_CLASSES = 10\n",
    "PATH=\"../input/\"\n",
    "print(os.listdir(PATH))"
   ]
  },
  {
   "cell_type": "markdown",
   "metadata": {
    "_uuid": "f49d65b4af77e87ab34b6854850619911cff1e6d"
   },
   "source": [
    "# <a id=\"3\">Read the data</a>\n",
    "\n",
    "We will read the two data files containing the 10-class data, KMNIST, similar to MNIST.\n",
    "\n",
    "There are 10 different classes of images, one class for each number between 0 and 9. \n",
    "\n",
    "Image dimmensions are **28**x**28**.   \n",
    "\n",
    "The train set and test set are given in two separate numpy arrays.   \n",
    "\n",
    "We are also reading the labels for train set.\n",
    "\n",
    "Aditionally, we will read the character class map for KMNIST, so that we can display the actual characters corresponding to the labels.\n"
   ]
  },
  {
   "cell_type": "code",
   "execution_count": 3,
   "metadata": {
    "_uuid": "a9c3148fda056ecc88570b302f5185064d5e9fc8"
   },
   "outputs": [],
   "source": [
    "# 50k of data 28x28\n",
    "train_images = np.load(os.path.join(PATH,'train-imgs.npz'))['arr_0']\n",
    "\n",
    "# 20k of data 28x28\n",
    "test_images = np.load(os.path.join(PATH,'test-imgs.npz'))['arr_0']\n",
    "\n",
    "# List with 50k of data, each elem is a code group for a image\n",
    "train_labels = np.load(os.path.join(PATH,'train-labels.npz'))['arr_0']"
   ]
  },
  {
   "cell_type": "code",
   "execution_count": 4,
   "metadata": {
    "_uuid": "98a9f76119d4e9e56016c5bb1d27ae0a2b6b03d5"
   },
   "outputs": [],
   "source": [
    "char_df = pd.read_csv(os.path.join(PATH,'classmap.csv'), encoding = 'utf-8')"
   ]
  },
  {
   "cell_type": "markdown",
   "metadata": {
    "_uuid": "290f8f38b2f64dfd1bd3432eb1e9a101dbbaf4e5"
   },
   "source": [
    "# <a id=\"4\">Data exploration</a>"
   ]
  },
  {
   "cell_type": "markdown",
   "metadata": {
    "_uuid": "e8891ae7996aa2ae5bc1c025661a77ae91c2fdfb"
   },
   "source": [
    "![](http://)The dimmension of the original  train,  test set are as following:"
   ]
  },
  {
   "cell_type": "code",
   "execution_count": 5,
   "metadata": {
    "_uuid": "a133496cefc53baa56b9a5eec93bfd064ea6360d"
   },
   "outputs": [
    {
     "name": "stdout",
     "output_type": "stream",
     "text": [
      "KMNIST train shape: (50000, 28, 28)\n",
      "KMNIST test shape: (20000, 28, 28)\n",
      "KMNIST train labels shape: (50000,)\n"
     ]
    }
   ],
   "source": [
    "print(\"KMNIST train shape:\", train_images.shape)\n",
    "print(\"KMNIST test shape:\", test_images.shape)\n",
    "print(\"KMNIST train labels shape:\", train_labels.shape)"
   ]
  },
  {
   "cell_type": "markdown",
   "metadata": {
    "_uuid": "b874bdba7b93b8b8cc751cb7c2383facda96af30"
   },
   "source": [
    "The dimmension of the character set data file for KMNIST are:"
   ]
  },
  {
   "cell_type": "code",
   "execution_count": 6,
   "metadata": {
    "_uuid": "23c72d9c5f9f6406e6737be2cba421f479ab8fe0"
   },
   "outputs": [
    {
     "name": "stdout",
     "output_type": "stream",
     "text": [
      "KMNIST character map shape: (10, 3)\n"
     ]
    }
   ],
   "source": [
    "print(\"KMNIST character map shape:\", char_df.shape)"
   ]
  },
  {
   "cell_type": "markdown",
   "metadata": {
    "_uuid": "84e6430811643060635018aaef4b2e9412310570"
   },
   "source": [
    "Let's show the character map:"
   ]
  },
  {
   "cell_type": "code",
   "execution_count": 7,
   "metadata": {
    "_uuid": "c81de1b4f11784d2326e6eff0e1ac824589007a9"
   },
   "outputs": [
    {
     "data": {
      "text/html": [
       "<div>\n",
       "<style scoped>\n",
       "    .dataframe tbody tr th:only-of-type {\n",
       "        vertical-align: middle;\n",
       "    }\n",
       "\n",
       "    .dataframe tbody tr th {\n",
       "        vertical-align: top;\n",
       "    }\n",
       "\n",
       "    .dataframe thead th {\n",
       "        text-align: right;\n",
       "    }\n",
       "</style>\n",
       "<table border=\"1\" class=\"dataframe\">\n",
       "  <thead>\n",
       "    <tr style=\"text-align: right;\">\n",
       "      <th></th>\n",
       "      <th>index</th>\n",
       "      <th>codepoint</th>\n",
       "      <th>char</th>\n",
       "    </tr>\n",
       "  </thead>\n",
       "  <tbody>\n",
       "    <tr>\n",
       "      <th>0</th>\n",
       "      <td>0</td>\n",
       "      <td>U+304A</td>\n",
       "      <td>お</td>\n",
       "    </tr>\n",
       "    <tr>\n",
       "      <th>1</th>\n",
       "      <td>1</td>\n",
       "      <td>U+304D</td>\n",
       "      <td>き</td>\n",
       "    </tr>\n",
       "    <tr>\n",
       "      <th>2</th>\n",
       "      <td>2</td>\n",
       "      <td>U+3059</td>\n",
       "      <td>す</td>\n",
       "    </tr>\n",
       "    <tr>\n",
       "      <th>3</th>\n",
       "      <td>3</td>\n",
       "      <td>U+3064</td>\n",
       "      <td>つ</td>\n",
       "    </tr>\n",
       "    <tr>\n",
       "      <th>4</th>\n",
       "      <td>4</td>\n",
       "      <td>U+306A</td>\n",
       "      <td>な</td>\n",
       "    </tr>\n",
       "    <tr>\n",
       "      <th>5</th>\n",
       "      <td>5</td>\n",
       "      <td>U+306F</td>\n",
       "      <td>は</td>\n",
       "    </tr>\n",
       "    <tr>\n",
       "      <th>6</th>\n",
       "      <td>6</td>\n",
       "      <td>U+307E</td>\n",
       "      <td>ま</td>\n",
       "    </tr>\n",
       "    <tr>\n",
       "      <th>7</th>\n",
       "      <td>7</td>\n",
       "      <td>U+3084</td>\n",
       "      <td>や</td>\n",
       "    </tr>\n",
       "    <tr>\n",
       "      <th>8</th>\n",
       "      <td>8</td>\n",
       "      <td>U+308C</td>\n",
       "      <td>れ</td>\n",
       "    </tr>\n",
       "    <tr>\n",
       "      <th>9</th>\n",
       "      <td>9</td>\n",
       "      <td>U+3092</td>\n",
       "      <td>を</td>\n",
       "    </tr>\n",
       "  </tbody>\n",
       "</table>\n",
       "</div>"
      ],
      "text/plain": [
       "   index codepoint char\n",
       "0      0    U+304A    お\n",
       "1      1    U+304D    き\n",
       "2      2    U+3059    す\n",
       "3      3    U+3064    つ\n",
       "4      4    U+306A    な\n",
       "5      5    U+306F    は\n",
       "6      6    U+307E    ま\n",
       "7      7    U+3084    や\n",
       "8      8    U+308C    れ\n",
       "9      9    U+3092    を"
      ]
     },
     "execution_count": 7,
     "metadata": {},
     "output_type": "execute_result"
    }
   ],
   "source": [
    "char_df"
   ]
  },
  {
   "cell_type": "markdown",
   "metadata": {
    "_uuid": "dc317fbf40c9b2838f8091e745a64e060a7affc0"
   },
   "source": [
    "## <a id=\"41\">Class distribution</a>\n",
    "\n",
    "Let's see how many number of images are in each class. \n",
    "\n",
    "### Train set images class distribution"
   ]
  },
  {
   "cell_type": "code",
   "execution_count": 8,
   "metadata": {
    "_uuid": "5e019d780accede229f1599af5774b8ee27bc196"
   },
   "outputs": [
    {
     "name": "stdout",
     "output_type": "stream",
     "text": [
      "Percent for each category: [10.056  9.996  9.94   9.998  9.966 10.026  9.922 10.064  9.954 10.078]\n"
     ]
    }
   ],
   "source": [
    "# bincount - number of each category\n",
    "print('Percent for each category:',np.bincount(train_labels)/len(train_labels)*100)"
   ]
  },
  {
   "cell_type": "markdown",
   "metadata": {
    "_uuid": "fc41d889d3ad6352994cdf8a76a78ed0d22ec141"
   },
   "source": [
    "The classes are allmost equaly distributed in the train set (being ~10% each, or ~5000 items).  Let's also plot a graph for these."
   ]
  },
  {
   "cell_type": "code",
   "execution_count": 9,
   "metadata": {
    "_uuid": "586ec8e6c438d856f035afea1893aeb23a21ed69"
   },
   "outputs": [
    {
     "data": {
      "image/png": "[encoded data removed]",
      "text/plain": [
       "<Figure size 576x432 with 1 Axes>"
      ]
     },
     "metadata": {},
     "output_type": "display_data"
    },
    {
     "name": "stdout",
     "output_type": "stream",
     "text": [
      "\t['お', 'き', 'す', 'つ', 'な', 'は', 'ま', 'や', 'れ', 'を']\n"
     ]
    }
   ],
   "source": [
    "\n",
    "labels = char_df['char']\n",
    "f, ax = plt.subplots(1,1, figsize=(8,6))\n",
    "g = sns.countplot(train_labels)\n",
    "g.set_title(\"Number of labels for each class\")\n",
    "g.set_xticklabels(labels)\n",
    "plt.show()    \n",
    "print(\"\\t{}\".format(list(labels)))"
   ]
  },
  {
   "cell_type": "markdown",
   "metadata": {
    "_uuid": "588beb3c38b5f5a0b41ca0699426a1477efb8412"
   },
   "source": [
    "## <a id=\"42\">Sample images</a>\n",
    "\n",
    "### Train dataset images\n",
    "\n",
    "Let's plot some samples for the images."
   ]
  },
  {
   "cell_type": "code",
   "execution_count": 10,
   "metadata": {
    "_uuid": "62fd41c12740f184ec160d692b3289d4457297d6"
   },
   "outputs": [],
   "source": [
    "def plot_sample_images_data(images, labels):\n",
    "    plt.figure(figsize=(15,15))\n",
    "    for i in tqdm_notebook(range(10)):\n",
    "        imgs = images[np.where(labels == i)]\n",
    "        lbls = labels[np.where(labels == i)]\n",
    "        for j in range(10):\n",
    "            plt.subplot(10,10,i*10+j+1)\n",
    "            plt.xticks([])\n",
    "            plt.yticks([])\n",
    "            plt.grid(False)\n",
    "            plt.imshow(imgs[j], cmap=plt.cm.binary)\n",
    "            plt.xlabel(lbls[j])"
   ]
  },
  {
   "cell_type": "code",
   "execution_count": 11,
   "metadata": {
    "_uuid": "3a6cf312fa8dde999647825dc7119fcfd636619b"
   },
   "outputs": [
    {
     "data": {
      "application/vnd.jupyter.widget-view+json": {
       "model_id": "c77c68252aaa4a24bf0cbafc7768a0ba",
       "version_major": 2,
       "version_minor": 0
      },
      "text/plain": [
       "HBox(children=(IntProgress(value=0, max=10), HTML(value='')))"
      ]
     },
     "metadata": {},
     "output_type": "display_data"
    },
    {
     "name": "stdout",
     "output_type": "stream",
     "text": [
      "\n"
     ]
    },
    {
     "data": {
      "image/png": "[encoded data removed]",
      "text/plain": [
       "<Figure size 1080x1080 with 100 Axes>"
      ]
     },
     "metadata": {},
     "output_type": "display_data"
    }
   ],
   "source": [
    "plot_sample_images_data(train_images, train_labels)"
   ]
  },
  {
   "cell_type": "markdown",
   "metadata": {
    "_uuid": "273c79c7470c49fe7a546dd7148e0536be2dee19"
   },
   "source": [
    "# <a id=\"5\">Model</a>\n",
    "\n",
    "We start with preparing the model."
   ]
  },
  {
   "cell_type": "markdown",
   "metadata": {
    "_uuid": "10b920b2ffc5de4a3ddebe494966d90cca91ee95"
   },
   "source": [
    "## <a id=\"51\">Prepare the model</a>\n",
    "\n",
    "## Data preprocessing\n",
    "\n",
    "First we will do a data preprocessing to prepare for the model.\n",
    "\n",
    "We reshape the numpy arrays for images to associate to each image a (28 x 28 x 1) array, with values normalized."
   ]
  },
  {
   "cell_type": "code",
   "execution_count": 12,
   "metadata": {
    "_uuid": "db4c308b9fb334a54b4c055b00d2a1fbcf77ab96"
   },
   "outputs": [],
   "source": [
    "# data preprocessing\n",
    "def data_preprocessing(images):\n",
    "    num_images = images.shape[0]\n",
    "    x_shaped_array = images.reshape(num_images, IMG_ROWS, IMG_COLS, 1)\n",
    "    out_x = x_shaped_array / 255\n",
    "    return out_x"
   ]
  },
  {
   "cell_type": "markdown",
   "metadata": {
    "_kg_hide-output": false,
    "_uuid": "88705cb8cc7fbc63256d915932e383e3a5157b52"
   },
   "source": [
    "We process both the train_data and the test_data."
   ]
  },
  {
   "cell_type": "code",
   "execution_count": 13,
   "metadata": {
    "_uuid": "b218ce90b0be5f5d8e23bb292e2b2d8a7884fbc3"
   },
   "outputs": [],
   "source": [
    "# X is a np array\n",
    "X = data_preprocessing(train_images)\n",
    "\n",
    "# Convert the train_labels np array into matrix \n",
    "y = keras.utils.to_categorical(train_labels, NUM_CLASSES)\n",
    "\n",
    "# X_test is a np array\n",
    "X_test = data_preprocessing(test_images)"
   ]
  },
  {
   "cell_type": "markdown",
   "metadata": {
    "_uuid": "8e25c569f0a0e817ca0462f3e3ea2f50feb480b0"
   },
   "source": [
    "## Split train in train and validation set\n",
    "\n",
    "We further split the train set in train and validation set. The validation set will be 20% from the original train set, therefore the split will be train/validation of 0.8/0.2."
   ]
  },
  {
   "cell_type": "code",
   "execution_count": 14,
   "metadata": {
    "_uuid": "36eb910dd0868a227a73c9759d6aee0a47ba2b1e"
   },
   "outputs": [],
   "source": [
    "# X_train, X_val, y_train, y_val = train_test_split(X, y, test_size=0.025, random_state=42)\n",
    "\n",
    "# print(\"X_train data shape: {} \\nY_val data shape: {} \\nY_train shape: {}\\nY_val shape: {}\".format(X_train.shape, X_val.shape, y_train.shape, y_val.shape))"
   ]
  },
  {
   "cell_type": "code",
   "execution_count": 15,
   "metadata": {},
   "outputs": [],
   "source": [
    "X_train = X\n",
    "y_train = y"
   ]
  },
  {
   "cell_type": "markdown",
   "metadata": {
    "_uuid": "1e623ca7c0c61634c0e4b890fc5cf5cacb132552"
   },
   "source": [
    "The dimmension of the processed train, validation and test set are as following:"
   ]
  },
  {
   "cell_type": "code",
   "execution_count": 16,
   "metadata": {
    "_uuid": "98b3f1bf07e8ed614bf32b8e1955cbe90bff21c5"
   },
   "outputs": [
    {
     "name": "stdout",
     "output_type": "stream",
     "text": [
      "KMNIST train -  rows: 50000  columns: (28, 28, 1)\n"
     ]
    },
    {
     "ename": "NameError",
     "evalue": "name 'X_val' is not defined",
     "output_type": "error",
     "traceback": [
      "\u001b[0;31m---------------------------------------------------------------------------\u001b[0m",
      "\u001b[0;31mNameError\u001b[0m                                 Traceback (most recent call last)",
      "\u001b[0;32m<ipython-input-16-88ccc6de7bce>\u001b[0m in \u001b[0;36m<module>\u001b[0;34m()\u001b[0m\n\u001b[1;32m      1\u001b[0m \u001b[0mprint\u001b[0m\u001b[0;34m(\u001b[0m\u001b[0;34m\"KMNIST train -  rows:\"\u001b[0m\u001b[0;34m,\u001b[0m\u001b[0mX_train\u001b[0m\u001b[0;34m.\u001b[0m\u001b[0mshape\u001b[0m\u001b[0;34m[\u001b[0m\u001b[0;36m0\u001b[0m\u001b[0;34m]\u001b[0m\u001b[0;34m,\u001b[0m\u001b[0;34m\" columns:\"\u001b[0m\u001b[0;34m,\u001b[0m \u001b[0mX_train\u001b[0m\u001b[0;34m.\u001b[0m\u001b[0mshape\u001b[0m\u001b[0;34m[\u001b[0m\u001b[0;36m1\u001b[0m\u001b[0;34m:\u001b[0m\u001b[0;36m4\u001b[0m\u001b[0;34m]\u001b[0m\u001b[0;34m)\u001b[0m\u001b[0;34m\u001b[0m\u001b[0m\n\u001b[0;32m----> 2\u001b[0;31m \u001b[0mprint\u001b[0m\u001b[0;34m(\u001b[0m\u001b[0;34m\"KMNIST valid -  rows:\"\u001b[0m\u001b[0;34m,\u001b[0m\u001b[0mX_val\u001b[0m\u001b[0;34m.\u001b[0m\u001b[0mshape\u001b[0m\u001b[0;34m[\u001b[0m\u001b[0;36m0\u001b[0m\u001b[0;34m]\u001b[0m\u001b[0;34m,\u001b[0m\u001b[0;34m\" columns:\"\u001b[0m\u001b[0;34m,\u001b[0m \u001b[0mX_val\u001b[0m\u001b[0;34m.\u001b[0m\u001b[0mshape\u001b[0m\u001b[0;34m[\u001b[0m\u001b[0;36m1\u001b[0m\u001b[0;34m:\u001b[0m\u001b[0;36m4\u001b[0m\u001b[0;34m]\u001b[0m\u001b[0;34m)\u001b[0m\u001b[0;34m\u001b[0m\u001b[0m\n\u001b[0m\u001b[1;32m      3\u001b[0m \u001b[0mprint\u001b[0m\u001b[0;34m(\u001b[0m\u001b[0;34m\"KMNIST test -  rows:\"\u001b[0m\u001b[0;34m,\u001b[0m\u001b[0mX_test\u001b[0m\u001b[0;34m.\u001b[0m\u001b[0mshape\u001b[0m\u001b[0;34m[\u001b[0m\u001b[0;36m0\u001b[0m\u001b[0;34m]\u001b[0m\u001b[0;34m,\u001b[0m\u001b[0;34m\" columns:\"\u001b[0m\u001b[0;34m,\u001b[0m \u001b[0mX_test\u001b[0m\u001b[0;34m.\u001b[0m\u001b[0mshape\u001b[0m\u001b[0;34m[\u001b[0m\u001b[0;36m1\u001b[0m\u001b[0;34m:\u001b[0m\u001b[0;36m4\u001b[0m\u001b[0;34m]\u001b[0m\u001b[0;34m)\u001b[0m\u001b[0;34m\u001b[0m\u001b[0m\n",
      "\u001b[0;31mNameError\u001b[0m: name 'X_val' is not defined"
     ]
    }
   ],
   "source": [
    "print(\"KMNIST train -  rows:\",X_train.shape[0],\" columns:\", X_train.shape[1:4])\n",
    "print(\"KMNIST valid -  rows:\",X_val.shape[0],\" columns:\", X_val.shape[1:4])\n",
    "print(\"KMNIST test -  rows:\",X_test.shape[0],\" columns:\", X_test.shape[1:4])"
   ]
  },
  {
   "cell_type": "markdown",
   "metadata": {
    "_uuid": "504b6e9a230b313c20feb5062aedaeac185cf973"
   },
   "source": [
    "Let's check the class imbalance for the resulted training set."
   ]
  },
  {
   "cell_type": "code",
   "execution_count": 17,
   "metadata": {
    "_uuid": "3d3c83a7be1be07cd4c3cacfaf8c667979a7d0ac",
    "scrolled": true
   },
   "outputs": [
    {
     "data": {
      "image/png": "[encoded data removed]",
      "text/plain": [
       "<Figure size 864x288 with 1 Axes>"
      ]
     },
     "metadata": {},
     "output_type": "display_data"
    },
    {
     "name": "stdout",
     "output_type": "stream",
     "text": [
      "9(を):   5039 or 10.078%\n",
      "7(や):   5032 or 10.064%\n",
      "0(お):   5028 or 10.056%\n",
      "5(は):   5013 or 10.026%\n",
      "3(つ):   4999 or 9.998%\n",
      "1(き):   4998 or 9.995999999999999%\n",
      "4(な):   4983 or 9.966%\n",
      "8(れ):   4977 or 9.954%\n",
      "2(す):   4970 or 9.94%\n",
      "6(ま):   4961 or 9.922%\n"
     ]
    }
   ],
   "source": [
    "def plot_count_per_class(yd):\n",
    "    ydf = pd.DataFrame(yd)\n",
    "    f, ax = plt.subplots(1,1, figsize=(12,4))\n",
    "    g = sns.countplot(ydf[0], order = np.arange(0,10))\n",
    "    g.set_title(\"Number of items for each class\")\n",
    "    g.set_xlabel(\"Category\")\n",
    "            \n",
    "    plt.show()  \n",
    "\n",
    "def get_count_per_class(yd):\n",
    "    ydf = pd.DataFrame(yd)\n",
    "    # Get the count for each label\n",
    "    label_counts = ydf[0].value_counts()\n",
    "\n",
    "    # Get total number of samples\n",
    "    total_samples = len(yd)\n",
    "\n",
    "\n",
    "    # Count the number of items in each class\n",
    "    for i in range(len(label_counts)):\n",
    "        label = label_counts.index[i]\n",
    "        label_char = char_df[char_df['index']==label]['char'].item()\n",
    "        count = label_counts.values[i]\n",
    "        percent = (count / total_samples) * 100\n",
    "        print(\"{}({}):   {} or {}%\".format(label, label_char, count, percent))\n",
    "    \n",
    "plot_count_per_class(np.argmax(y_train,axis=1))\n",
    "get_count_per_class(np.argmax(y_train,axis=1))"
   ]
  },
  {
   "cell_type": "markdown",
   "metadata": {
    "_uuid": "926fa3b04b86032becd38bf2c5210ab17afbd2d2"
   },
   "source": [
    "Let's see also the class distribution of validation set."
   ]
  },
  {
   "cell_type": "code",
   "execution_count": 18,
   "metadata": {
    "_uuid": "b99d881350de0bdf0ec9795a7b1f6013db5df5fd"
   },
   "outputs": [
    {
     "ename": "NameError",
     "evalue": "name 'y_val' is not defined",
     "output_type": "error",
     "traceback": [
      "\u001b[0;31m---------------------------------------------------------------------------\u001b[0m",
      "\u001b[0;31mNameError\u001b[0m                                 Traceback (most recent call last)",
      "\u001b[0;32m<ipython-input-18-392c4b604102>\u001b[0m in \u001b[0;36m<module>\u001b[0;34m()\u001b[0m\n\u001b[0;32m----> 1\u001b[0;31m \u001b[0mplot_count_per_class\u001b[0m\u001b[0;34m(\u001b[0m\u001b[0mnp\u001b[0m\u001b[0;34m.\u001b[0m\u001b[0margmax\u001b[0m\u001b[0;34m(\u001b[0m\u001b[0my_val\u001b[0m\u001b[0;34m,\u001b[0m\u001b[0maxis\u001b[0m\u001b[0;34m=\u001b[0m\u001b[0;36m1\u001b[0m\u001b[0;34m)\u001b[0m\u001b[0;34m)\u001b[0m\u001b[0;34m\u001b[0m\u001b[0m\n\u001b[0m\u001b[1;32m      2\u001b[0m \u001b[0mget_count_per_class\u001b[0m\u001b[0;34m(\u001b[0m\u001b[0mnp\u001b[0m\u001b[0;34m.\u001b[0m\u001b[0margmax\u001b[0m\u001b[0;34m(\u001b[0m\u001b[0my_val\u001b[0m\u001b[0;34m,\u001b[0m\u001b[0maxis\u001b[0m\u001b[0;34m=\u001b[0m\u001b[0;36m1\u001b[0m\u001b[0;34m)\u001b[0m\u001b[0;34m)\u001b[0m\u001b[0;34m\u001b[0m\u001b[0m\n",
      "\u001b[0;31mNameError\u001b[0m: name 'y_val' is not defined"
     ]
    }
   ],
   "source": [
    "plot_count_per_class(np.argmax(y_val,axis=1))\n",
    "get_count_per_class(np.argmax(y_val,axis=1))"
   ]
  },
  {
   "cell_type": "markdown",
   "metadata": {
    "_uuid": "dd9405b5a3fe0c7bd5bebe0616190a8cf26d2811"
   },
   "source": [
    "## <a id=\"52\">Train the model</a>\n",
    "\n",
    "### Build the model   \n",
    "\n",
    "\n",
    "\n"
   ]
  },
  {
   "cell_type": "code",
   "execution_count": 19,
   "metadata": {
    "_uuid": "e31836cd5ec9d86340485404b8f613d1f574aca4"
   },
   "outputs": [
    {
     "name": "stdout",
     "output_type": "stream",
     "text": [
      "WARNING:tensorflow:From /opt/conda/lib/python3.6/site-packages/tensorflow/python/ops/resource_variable_ops.py:435: colocate_with (from tensorflow.python.framework.ops) is deprecated and will be removed in a future version.\n",
      "Instructions for updating:\n",
      "Colocations handled automatically by placer.\n"
     ]
    }
   ],
   "source": [
    "\n",
    "# Model\n",
    "model = Sequential()\n",
    "# Add convolution 2D\n",
    "\n",
    "model.add(Conv2D(128,  # 16\n",
    "                 kernel_size=(3, 3),\n",
    "                 activation='relu',\n",
    "                 padding=\"same\",\n",
    "                 kernel_initializer='he_normal',\n",
    "                 input_shape=(IMG_ROWS, IMG_COLS, 1)  # 1 - binary images\n",
    "                )\n",
    "         ) \n",
    "model.add(BatchNormalization())\n",
    "model.add(MaxPooling2D(pool_size=(2, 2)))\n",
    "model.add(Conv2D(64, \n",
    "                 kernel_size=(3, 3), \n",
    "                 activation='relu'\n",
    "                )\n",
    "         )\n",
    "model.add(BatchNormalization())\n",
    "model.add(MaxPooling2D(pool_size=(2, 2)))\n",
    "model.add(Conv2D(64, \n",
    "                 kernel_size=(3, 3), \n",
    "                 activation='relu'\n",
    "                )\n",
    "         )\n",
    "model.add(BatchNormalization())\n",
    "model.add(MaxPooling2D(pool_size=(2, 2)))\n",
    "model.add(Flatten())\n",
    "model.add(Dense(NUM_CLASSES, activation='softmax'))"
   ]
  },
  {
   "cell_type": "markdown",
   "metadata": {
    "_uuid": "58ab4b97c822b6712f80ddc9a39d13a582e57b78"
   },
   "source": [
    "### Compile the model\n",
    "We then compile the model, with the layers and optimized defined."
   ]
  },
  {
   "cell_type": "code",
   "execution_count": 20,
   "metadata": {
    "_uuid": "17c6907aab80815ef8877f1c61a6796f9487f5fd"
   },
   "outputs": [],
   "source": [
    "# Compile the model\n",
    "model.compile(loss = \"categorical_crossentropy\", optimizer=\"adam\", metrics=[\"accuracy\"])"
   ]
  },
  {
   "cell_type": "markdown",
   "metadata": {
    "_uuid": "ecb450d70539a62fb310bb7ed44849d2d01481ee"
   },
   "source": [
    "### Inspect the model\n",
    "\n",
    "Let's check the model we initialized."
   ]
  },
  {
   "cell_type": "code",
   "execution_count": 21,
   "metadata": {
    "_uuid": "b4b923b11ceaf4a97677f8e24265e3e97ae1653b",
    "scrolled": true
   },
   "outputs": [
    {
     "name": "stdout",
     "output_type": "stream",
     "text": [
      "_________________________________________________________________\n",
      "Layer (type)                 Output Shape              Param #   \n",
      "=================================================================\n",
      "conv2d (Conv2D)              (None, 28, 28, 128)       1280      \n",
      "_________________________________________________________________\n",
      "batch_normalization_v1 (Batc (None, 28, 28, 128)       512       \n",
      "_________________________________________________________________\n",
      "max_pooling2d (MaxPooling2D) (None, 14, 14, 128)       0         \n",
      "_________________________________________________________________\n",
      "conv2d_1 (Conv2D)            (None, 12, 12, 64)        73792     \n",
      "_________________________________________________________________\n",
      "batch_normalization_v1_1 (Ba (None, 12, 12, 64)        256       \n",
      "_________________________________________________________________\n",
      "max_pooling2d_1 (MaxPooling2 (None, 6, 6, 64)          0         \n",
      "_________________________________________________________________\n",
      "conv2d_2 (Conv2D)            (None, 4, 4, 64)          36928     \n",
      "_________________________________________________________________\n",
      "batch_normalization_v1_2 (Ba (None, 4, 4, 64)          256       \n",
      "_________________________________________________________________\n",
      "max_pooling2d_2 (MaxPooling2 (None, 2, 2, 64)          0         \n",
      "_________________________________________________________________\n",
      "flatten (Flatten)            (None, 256)               0         \n",
      "_________________________________________________________________\n",
      "dense (Dense)                (None, 10)                2570      \n",
      "=================================================================\n",
      "Total params: 115,594\n",
      "Trainable params: 115,082\n",
      "Non-trainable params: 512\n",
      "_________________________________________________________________\n"
     ]
    }
   ],
   "source": [
    "model.summary()"
   ]
  },
  {
   "cell_type": "markdown",
   "metadata": {
    "_uuid": "9265c2a5c2fbf1b028abc5fc82862b16eb9a4bbb"
   },
   "source": [
    "### Run the model\n",
    "\n",
    "We run the model with the training set. We are also using the validation set (a subset from the orginal training set) for validation."
   ]
  },
  {
   "cell_type": "code",
   "execution_count": 22,
   "metadata": {
    "_uuid": "400494b7e0525069175625422e8c300bd7b41c51",
    "scrolled": true
   },
   "outputs": [
    {
     "name": "stdout",
     "output_type": "stream",
     "text": [
      "WARNING:tensorflow:From /opt/conda/lib/python3.6/site-packages/tensorflow/python/ops/math_ops.py:3066: to_int32 (from tensorflow.python.ops.math_ops) is deprecated and will be removed in a future version.\n",
      "Instructions for updating:\n",
      "Use tf.cast instead.\n",
      "Epoch 1/20\n",
      "50000/50000 [==============================] - 10s 203us/sample - loss: 0.2057 - acc: 0.9384\n",
      "Epoch 2/20\n",
      "50000/50000 [==============================] - 9s 173us/sample - loss: 0.0703 - acc: 0.9788\n",
      "Epoch 3/20\n",
      "50000/50000 [==============================] - 9s 188us/sample - loss: 0.0459 - acc: 0.9858\n",
      "Epoch 4/20\n",
      "50000/50000 [==============================] - 8s 170us/sample - loss: 0.0320 - acc: 0.9896\n",
      "Epoch 5/20\n",
      "50000/50000 [==============================] - 8s 169us/sample - loss: 0.0241 - acc: 0.9925\n",
      "Epoch 6/20\n",
      "50000/50000 [==============================] - 8s 169us/sample - loss: 0.0202 - acc: 0.9932\n",
      "Epoch 7/20\n",
      "50000/50000 [==============================] - 10s 191us/sample - loss: 0.0152 - acc: 0.9949\n",
      "Epoch 8/20\n",
      "50000/50000 [==============================] - 9s 174us/sample - loss: 0.0131 - acc: 0.9956\n",
      "Epoch 9/20\n",
      "50000/50000 [==============================] - 8s 169us/sample - loss: 0.0116 - acc: 0.9961\n",
      "Epoch 10/20\n",
      "50000/50000 [==============================] - 8s 169us/sample - loss: 0.0090 - acc: 0.9972\n",
      "Epoch 11/20\n",
      "50000/50000 [==============================] - 8s 169us/sample - loss: 0.0088 - acc: 0.9971\n",
      "Epoch 12/20\n",
      "50000/50000 [==============================] - 9s 188us/sample - loss: 0.0094 - acc: 0.9967\n",
      "Epoch 13/20\n",
      "50000/50000 [==============================] - 9s 172us/sample - loss: 0.0069 - acc: 0.9976\n",
      "Epoch 14/20\n",
      "50000/50000 [==============================] - 8s 169us/sample - loss: 0.0066 - acc: 0.9977\n",
      "Epoch 15/20\n",
      "50000/50000 [==============================] - 8s 169us/sample - loss: 0.0077 - acc: 0.9976\n",
      "Epoch 16/20\n",
      "50000/50000 [==============================] - 8s 169us/sample - loss: 0.0059 - acc: 0.9979\n",
      "Epoch 17/20\n",
      "50000/50000 [==============================] - 8s 169us/sample - loss: 0.0080 - acc: 0.9973\n",
      "Epoch 18/20\n",
      "50000/50000 [==============================] - 9s 171us/sample - loss: 0.0053 - acc: 0.9983\n",
      "Epoch 19/20\n",
      "50000/50000 [==============================] - 8s 169us/sample - loss: 0.0051 - acc: 0.9981\n",
      "Epoch 20/20\n",
      "50000/50000 [==============================] - 9s 170us/sample - loss: 0.0047 - acc: 0.9983\n"
     ]
    }
   ],
   "source": [
    "history = model.fit(X_train, y_train,\n",
    "          epochs=20, # 18\n",
    "          verbose=1)"
   ]
  },
  {
   "cell_type": "markdown",
   "metadata": {
    "_uuid": "8699df44bc0a95f1a43a201d3dd566746d87173f"
   },
   "source": [
    "\n",
    "## <a id=\"53\">Validation accuracy and  loss </a>\n",
    "\n",
    "\n",
    "We plot accuracy for validation set compared with the accuracy of training set, for each epoch, on the same graph. Then, we plot loss for validation set compared with the loss for training set. \n"
   ]
  },
  {
   "cell_type": "code",
   "execution_count": 23,
   "metadata": {
    "_uuid": "b9e2bb7f25b02d491e34dd0d6d05943e287ae369"
   },
   "outputs": [
    {
     "data": {
      "image/png": "[encoded data removed]",
      "text/plain": [
       "<Figure size 1008x432 with 2 Axes>"
      ]
     },
     "metadata": {},
     "output_type": "display_data"
    }
   ],
   "source": [
    "def plot_accuracy_and_loss(train_model):\n",
    "    hist = train_model.history\n",
    "    acc = hist['acc']\n",
    "#     val_acc = hist['val_acc']\n",
    "    loss = hist['loss']\n",
    "#     val_loss = hist['val_loss']\n",
    "    epochs = range(len(acc))\n",
    "    f, ax = plt.subplots(1,2, figsize=(14,6))\n",
    "    ax[0].plot(epochs, acc, 'g', label='Training accuracy')\n",
    "#     ax[0].plot(epochs, val_acc, 'r', label='Validation accuracy')\n",
    "    ax[0].set_title('Training and validation accuracy')\n",
    "    ax[0].legend()\n",
    "    ax[1].plot(epochs, loss, 'g', label='Training loss')\n",
    "#     ax[1].plot(epochs, val_loss, 'r', label='Validation loss')\n",
    "    ax[1].set_title('Training and validation loss')\n",
    "    ax[1].legend()\n",
    "    plt.show()\n",
    "plot_accuracy_and_loss(history)"
   ]
  },
  {
   "cell_type": "markdown",
   "metadata": {
    "_uuid": "e314698014d0f87ef04ea539bff653275b176060"
   },
   "source": [
    "The model used here is simplified, with the purpose to serve as a  baseline. For more complex models, please consult the references."
   ]
  },
  {
   "cell_type": "markdown",
   "metadata": {
    "_uuid": "df9a25a0123b6fa2600ddb58805c96bb63463ef0"
   },
   "source": [
    "## <a id=\"54\">Validation accuracy / class</a>\n",
    "\n",
    "Let's see in detail how well are the validation set classes predicted."
   ]
  },
  {
   "cell_type": "code",
   "execution_count": 24,
   "metadata": {
    "_uuid": "9bc726c2c275542447a2845ab856950f9930ba28"
   },
   "outputs": [],
   "source": [
    "# #get the predictions for the test data\n",
    "# predicted_classes = model.predict_classes(X_val)\n",
    "# #get the indices to be plotted\n",
    "# y_true = np.argmax(y_val,axis=1)"
   ]
  },
  {
   "cell_type": "code",
   "execution_count": 25,
   "metadata": {
    "_uuid": "3eed1fc17ccc4ab642121bbc6a3763eea61a1ec6"
   },
   "outputs": [],
   "source": [
    "# correct = np.nonzero(predicted_classes==y_true)[0]\n",
    "# incorrect = np.nonzero(predicted_classes!=y_true)[0]"
   ]
  },
  {
   "cell_type": "code",
   "execution_count": 26,
   "metadata": {
    "_uuid": "9b902c728e50e405490b7898eb30728781197b48"
   },
   "outputs": [],
   "source": [
    "# print(\"Correct predicted classes:\",correct.shape[0])\n",
    "# print(\"Incorrect predicted classes:\",incorrect.shape[0])"
   ]
  },
  {
   "cell_type": "code",
   "execution_count": 27,
   "metadata": {
    "_uuid": "a2a677a206e11f2cbb4dc90a91c9f683173718ec"
   },
   "outputs": [],
   "source": [
    "# target_names = [\"Class {} ({}):\".format(i, char_df[char_df['index']==i]['char'].item()) for i in range(NUM_CLASSES)]\n",
    "# print(classification_report(y_true, predicted_classes, target_names=target_names))"
   ]
  },
  {
   "cell_type": "markdown",
   "metadata": {
    "_uuid": "3696b5b116b4515c54a19563fd41ea2097439ecb"
   },
   "source": [
    "\n",
    "Let's visualize few images from the validation set that were correctly classified (25 images)."
   ]
  },
  {
   "cell_type": "code",
   "execution_count": 28,
   "metadata": {
    "_uuid": "70c882442d79ce5213de49ae9ecbd2dca6571f6d",
    "scrolled": true
   },
   "outputs": [],
   "source": [
    "# def plot_images(data_index,cmap=\"Blues\"):\n",
    "#     # Plot the sample images now\n",
    "#     f, ax = plt.subplots(5,5, figsize=(12,12))\n",
    "\n",
    "#     for i, indx in enumerate(data_index[:25]):\n",
    "#         ax[i//5, i%5].imshow(X_val[indx].reshape(IMG_ROWS,IMG_COLS), cmap=cmap)\n",
    "#         ax[i//5, i%5].axis('off')\n",
    "#         ax[i//5, i%5].set_title(\"True:{}  Pred:{}\".format(y_true[indx],predicted_classes[indx]))\n",
    "#     plt.show()    \n",
    "\n",
    "# plot_images(correct, \"Greens\")"
   ]
  },
  {
   "cell_type": "markdown",
   "metadata": {
    "_uuid": "710193bee5cfa74a5744442fcd1dc4f163a685a6"
   },
   "source": [
    "Let's visualize the images from the validation set that were incorrecly classified (25 images)."
   ]
  },
  {
   "cell_type": "code",
   "execution_count": 29,
   "metadata": {
    "_uuid": "becbd03e83ae8e01ee847f4629ad788a1d9f7416"
   },
   "outputs": [],
   "source": [
    "# plot_images(incorrect, \"Reds\")"
   ]
  },
  {
   "cell_type": "markdown",
   "metadata": {
    "_uuid": "d5f0874368bb2f45a715d556455b4a2846ff4468"
   },
   "source": [
    "We identify the predicted class for each image by selecting the column with the highest predicted value."
   ]
  },
  {
   "cell_type": "markdown",
   "metadata": {
    "_uuid": "84ef0df13ef2c3c4b7e062fe3b93a07dcdb21127"
   },
   "source": [
    "# <a id=\"6\">Test prediction</a>\n",
    "\n",
    "Let's use the trained model to predict the labels for the test images."
   ]
  },
  {
   "cell_type": "code",
   "execution_count": 30,
   "metadata": {
    "_uuid": "625a100b5e9734ba15ea0ab41ffb5e90db6506d9"
   },
   "outputs": [],
   "source": [
    "#get the predictions for the test data\n",
    "predicted_classes = model.predict_classes(X_test)"
   ]
  },
  {
   "cell_type": "markdown",
   "metadata": {
    "_uuid": "e24053db4dbfec25fd1b90391586d7ce6bc32988"
   },
   "source": [
    "# <a id=\"7\">Submission</a>\n",
    "\n",
    "Let's prepare the submission.\n"
   ]
  },
  {
   "cell_type": "code",
   "execution_count": 31,
   "metadata": {
    "_uuid": "89e3ecc2a18beb5cc2259cdd6d7d769f2b5e2818"
   },
   "outputs": [],
   "source": [
    "submission = pd.read_csv(os.path.join(PATH,\"sample_submission.csv\"))\n",
    "submission['Class'] = predicted_classes\n",
    "submission.to_csv(os.path.join(\".\",\"submission.csv\"), index=False)"
   ]
  },
  {
   "cell_type": "markdown",
   "metadata": {
    "_uuid": "1b45e3422fb9507da66ce7af67a97b54e7fa7683"
   },
   "source": [
    " <a id=\"8\">References</a>\n",
    "\n",
    "[1] Yan LeCun, MNIST Database, http://yann.lecun.com/exdb/mnist/  \n",
    "[2] DanB, CollinMoris, Deep Learning From Scratch, https://www.kaggle.com/dansbecker/deep-learning-from-scratch  \n",
    "[3] DanB, Dropout and Strides for Larger Models, https://www.kaggle.com/dansbecker/dropout-and-strides-for-larger-models  \n",
    "[4] BGO, CNN with Keras, https://www.kaggle.com/bugraokcu/cnn-with-keras    \n",
    "[5] Gabriel Preda, Simple introduction to CNN for MNIST (99.37%), https://www.kaggle.com/gpreda/simple-introduction-to-cnn-for-mnist-99-37  \n",
    "[6] Anokas, KMNIST-MNIST replacement, https://www.kaggle.com/aakashnain/kmnist-mnist-replacement    \n",
    "[7] Megan Risdal, Starter: Kuzushiji-MNIST, https://www.kaggle.com/mrisdal/starter-kuzushiji-mnist-ed86cfac-1   \n",
    "[8] Kuzushiji-MNIST, project Github repo, https://github.com/rois-codh/kmnist   \n",
    "[9] Tarin Clanuwat, Mikel Bober-Irizar, Asanobu Kitamoto, Alex Lamb, Kazuaki Yamamoto, David Ha, Deep Learning for Classical Japanese Literature, https://arxiv.org/abs/1812.01718  \n",
    "\n"
   ]
  }
 ],
 "metadata": {
  "kernelspec": {
   "display_name": "Python 3",
   "language": "python",
   "name": "python3"
  },
  "language_info": {
   "codemirror_mode": {
    "name": "ipython",
    "version": 3
   },
   "file_extension": ".py",
   "mimetype": "text/x-python",
   "name": "python",
   "nbconvert_exporter": "python",
   "pygments_lexer": "ipython3",
   "version": "3.6.6"
  }
 },
 "nbformat": 4,
 "nbformat_minor": 1
}
